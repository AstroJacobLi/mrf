{
 "cells": [
  {
   "cell_type": "code",
   "execution_count": null,
   "metadata": {},
   "outputs": [],
   "source": [
    "import sys\n",
    "import os\n",
    "import math\n",
    "import logging\n",
    "import copy\n",
    "import yaml\n",
    "import argparse\n",
    "import logging\n",
    "import numpy as np\n",
    "import matplotlib.pyplot as plt\n",
    "\n",
    "from astropy import wcs\n",
    "from astropy.io import fits\n",
    "from astropy.coordinates import SkyCoord, match_coordinates_sky\n",
    "from astropy.table import Table, Column, hstack\n",
    "from mrf.utils import (save_to_fits, Flux_Model, mask_out_stars, extract_obj, \\\n",
    "                       bright_star_mask, Autokernel, psf_bkgsub)\n",
    "from mrf.utils import seg_remove_obj, mask_out_certain_galaxy\n",
    "\n",
    "from mrf.display import display_single, SEG_CMAP, display_multiple, draw_circles\n",
    "from mrf.celestial import Celestial, Star\n",
    "from reproject import reproject_interp"
   ]
  },
  {
   "cell_type": "markdown",
   "metadata": {},
   "source": [
    "## This notebook shows how \"Multi-Resolution Filtering\" (van Dokkum et al. in prep) works, using NGC 5907 as an example. The Dragonfly images can be downloaded from https://www.pietervandokkum.com/ngc5907."
   ]
  },
  {
   "cell_type": "markdown",
   "metadata": {},
   "source": [
    "We use CFHT MegaPrime image as high-resolution counterpart."
   ]
  },
  {
   "cell_type": "code",
   "execution_count": null,
   "metadata": {},
   "outputs": [],
   "source": []
  }
 ],
 "metadata": {
  "kernelspec": {
   "display_name": "Python 3",
   "language": "python",
   "name": "python3"
  },
  "language_info": {
   "codemirror_mode": {
    "name": "ipython",
    "version": 3
   },
   "file_extension": ".py",
   "mimetype": "text/x-python",
   "name": "python",
   "nbconvert_exporter": "python",
   "pygments_lexer": "ipython3",
   "version": "3.7.0"
  }
 },
 "nbformat": 4,
 "nbformat_minor": 2
}
